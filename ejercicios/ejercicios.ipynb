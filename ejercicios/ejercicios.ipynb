{
 "cells": [
  {
   "cell_type": "code",
   "execution_count": 1,
   "metadata": {},
   "outputs": [],
   "source": [
    "Lunes = dict (estudiar=[\"inteligencia,robotica,control\"], \n",
    "              cocinar=[\"desayuno, almuerzo, merienda\"], \n",
    "              comprar=[\"viveres, articulos de limpiesa, articulos de aseo personal\"], \n",
    "              dormir=[\"lavar los dientes, pijama, orar\"])\n"
   ]
  },
  {
   "cell_type": "code",
   "execution_count": 20,
   "metadata": {},
   "outputs": [
    {
     "name": "stdout",
     "output_type": "stream",
     "text": [
      "Actividades:estudiar\n",
      "Tareas ['inteligencia,robotica,control']\n",
      "Actividades:cocinar\n",
      "Tareas ['desayuno, almuerzo, merienda']\n",
      "Actividades:comprar\n",
      "Tareas ['viveres, articulos de limpiesa, articulos de aseo personal']\n",
      "Actividades:dormir\n",
      "Tareas ['lavar los dientes, pijama, orar']\n"
     ]
    }
   ],
   "source": [
    "for i in Lunes.keys():\n",
    "    print (\"Actividades:\" +i)\n",
    "    print (\"Tareas\", Lunes[i])\n",
    "    "
   ]
  },
  {
   "cell_type": "markdown",
   "metadata": {},
   "source": []
  }
 ],
 "metadata": {
  "kernelspec": {
   "display_name": "Python 3",
   "language": "python",
   "name": "python3"
  },
  "language_info": {
   "codemirror_mode": {
    "name": "ipython",
    "version": 3
   },
   "file_extension": ".py",
   "mimetype": "text/x-python",
   "name": "python",
   "nbconvert_exporter": "python",
   "pygments_lexer": "ipython3",
   "version": "3.7.6"
  }
 },
 "nbformat": 4,
 "nbformat_minor": 4
}
