{
 "cells": [
  {
   "cell_type": "markdown",
   "metadata": {},
   "source": [
    "# Práctica: Repaso programación con Python e introducción a Jupyter"
   ]
  },
  {
   "cell_type": "markdown",
   "metadata": {},
   "source": [
    "**Ingeniería Electrónica**\n",
    "\n",
    "**Inteligencia Artificial**\n",
    "\n",
    "**08/04/2020**"
   ]
  },
  {
   "cell_type": "markdown",
   "metadata": {},
   "source": [
    "En este tutorial, se retoman los conceptos básicos de programación utilizando Python 3.7.x. La mayor parte del contenido de este tutorial se deriva de la documentación en línea de Python, que se puede encontrar en <http://docs.python.org/>. Parte del contenido ha sido cambiado/eliminado para brevedad. Para una introducción más completa, se puede consultar el **Tutorial** en esta dirección. También se puede encontrar soluciones para problemas específicos en el sitio."
   ]
  },
  {
   "cell_type": "markdown",
   "metadata": {},
   "source": [
    "Hay **dos ejercicios cortos sin evaluar** para completar durante esta práctica. De todos modos, se los motiva a enviar su trabajo, en primer lugar para que puedan estar seguros de que está enviando el trabajo correctamente antes de la primera evaluación práctica, en segundo lugar, para que podamos tener una idea de la experiencia de programación con Jupyter.\n",
    "\n",
    "Los ejercicios son sencillos y están destinados a familiarizarse nuevamente con la sintaxis de Python. \n",
    "Notarán que el código de Python en este documento ha sido pixelado. Esto es para alentarlos a escribir el código ustedes mismos, en lugar de copiarlo y pegarlo, ya que esta es una forma más efectiva de aprender."
   ]
  },
  {
   "cell_type": "markdown",
   "metadata": {},
   "source": [
    "## Usando Python en Jupyter Notebook"
   ]
  },
  {
   "cell_type": "markdown",
   "metadata": {},
   "source": [
    "Antes de trabajar con Jupyter Notebook, deberán descargar este documento como un archivo de notebook en su computadora. Se puede encontrar en la **seccion 2** del campus virtual de la materia. Descomprima el archivo en un lugar apropiado.\n",
    "\n",
    "Desde Windows, se inicia la aplicación **Anaconda-Navigator** desde el botón **Inicio**. Dar clic en el botón **Launch** debajo del ícono **Jupyter Notebook**.\n",
    "\n",
    "Anaconda-Navigator abrirá el navegador web y mostrará un portal web para Jupyter Notebook.\n",
    "Se les presentará su directorio de inicio. Navegar hasta el archivo **.ipynb** que se descargó y dar clic en el archivo para ejecutarlo. Este \"cuaderno\" se abrirá en una pestaña nueva."
   ]
  },
  {
   "cell_type": "markdown",
   "metadata": {},
   "source": [
    "Ahora estamos listos para comenzar a escribir código. Los Jupyter Notebooks consisten en dos tipos de celdas.\n",
    "- **Markdown Cells** - contiene texto e imágenes formateadas para mejorar visualmente el programa Python. Si se necesita editar estas celdas (por ejemplo, para agregar sus notas propias) dar doble clic en una celda. El formato debe cambiar y el texto aparecerá en una reducción. Markdown es un sistema de formato que utiliza combinaciones de caracteres para formatear texto. Dar clic [aquí](https://guides.github.com/features/mastering-markdown/) para obtener una guía sobre cómo escribir en markdown (ignorando la sección sobre Github Flavored Markdown). Para detener la edición, presionar **[shift] + [enter]**.\n",
    "\n",
    "- **Code Cells** - contienen código de Python. Se puede escribir directamente en la celda para editar el código. Para ejecutar el código en la celda, presionar **[shift] + [enter]**. Notarán que los corchetes vacíos en el margen izquierdo se rellenarán con un número. Este número indica el orden en que se ejecutaron las celdas. Pruébenlo en la primera celda de la siguiente sección. Si la celda devuelve el resultado, se imprimirá debajo de la celda adyacente a Out[1].\n",
    "\n",
    "    - Para restablecer el programa, haga clic en `Kernel` en la barra de menú de Jupyter y haga clic en`Restart & Clear Output`.\n",
    "    - Para ejecutar el programa desde el principio, haga clic en `Kernel` en la barra de menú de Jupyter y haga clic en`Restart & Run All`.\n",
    "    - Para guardar el notebook, haga clic en `File` en la barra de menú de Jupyter y haga clic en`Save and Checkpoint`.\n",
    " \n",
    "En algún momento, tómense el tiempo para familiarizarse con el entorno de Jupyter."
   ]
  },
  {
   "cell_type": "markdown",
   "metadata": {},
   "source": [
    "## Usando Python como calculadora\n",
    "\n",
    "Una de las cosas más simples que se puede hacer con Python, es un cálculo numérico.\n",
    "\n",
    "Escribe el siguiente código en la celda y presionar **[shift] + [enter]**:"
   ]
  },
  {
   "cell_type": "markdown",
   "metadata": {},
   "source": [
    "<img style=\"float:left;\" src=\"codigo_practica_img/codigo_practica_img1.png\"> </img>\n"
   ]
  },
  {
   "cell_type": "code",
   "execution_count": 7,
   "metadata": {},
   "outputs": [
    {
     "data": {
      "text/plain": [
       "7"
      ]
     },
     "execution_count": 7,
     "metadata": {},
     "output_type": "execute_result"
    }
   ],
   "source": [
    "2+5"
   ]
  },
  {
   "cell_type": "markdown",
   "metadata": {},
   "source": [
    "Se puede ver que Python interpretó la suma e imprimió el valor. Para usar la salida anterior, usar el carácter de subrayado. Para referirse a otra salida, usar el guión bajo seguido del número de la salida."
   ]
  },
  {
   "cell_type": "markdown",
   "metadata": {},
   "source": [
    "<img style=\"float:left;\" src=\"codigo_practica_img/codigo_practica_img2.png\"> </img>"
   ]
  },
  {
   "cell_type": "code",
   "execution_count": 9,
   "metadata": {},
   "outputs": [
    {
     "ename": "NameError",
     "evalue": "name '_3' is not defined",
     "output_type": "error",
     "traceback": [
      "\u001b[1;31m---------------------------------------------------------------------------\u001b[0m",
      "\u001b[1;31mNameError\u001b[0m                                 Traceback (most recent call last)",
      "\u001b[1;32m<ipython-input-9-d29d8b6f913c>\u001b[0m in \u001b[0;36m<module>\u001b[1;34m\u001b[0m\n\u001b[1;32m----> 1\u001b[1;33m \u001b[0mprint\u001b[0m\u001b[1;33m(\u001b[0m\u001b[0m_3\u001b[0m\u001b[1;33m)\u001b[0m\u001b[1;33m\u001b[0m\u001b[1;33m\u001b[0m\u001b[0m\n\u001b[0m",
      "\u001b[1;31mNameError\u001b[0m: name '_3' is not defined"
     ]
    }
   ],
   "source": [
    "print(_3)"
   ]
  },
  {
   "cell_type": "markdown",
   "metadata": {},
   "source": [
    "Se pueden usar los operadores matemáticos estándar (`+`,`-`,`*`,`/`), así como los paréntesis. Python distingue entre números enteros (p. ej., 2) y coma flotante (p. ej., 2.0)."
   ]
  },
  {
   "cell_type": "markdown",
   "metadata": {},
   "source": [
    "<img style=\"float:left;\" src=\"codigo_practica_img/codigo_practica_img3.png\"> </img>\n"
   ]
  },
  {
   "cell_type": "code",
   "execution_count": null,
   "metadata": {},
   "outputs": [],
   "source": []
  },
  {
   "cell_type": "markdown",
   "metadata": {},
   "source": [
    "Una de las principales diferencias entre Python 2 y Python 3 es cómo Python manejó la división de enteros.\n",
    "En Python 2, dividir un número entero por entero devolvería un número entero como resultado.\n",
    "En Python 3, la división entera siempre devolverá un punto flotante. Para devolver un número entero al realizar la división de números enteros, se debe usar el operador `//`."
   ]
  },
  {
   "cell_type": "markdown",
   "metadata": {},
   "source": [
    "<img style=\"float:left;\" src=\"codigo_practica_img/codigo_practica_img4.png\"> </img>\n"
   ]
  },
  {
   "cell_type": "code",
   "execution_count": null,
   "metadata": {},
   "outputs": [],
   "source": []
  },
  {
   "cell_type": "markdown",
   "metadata": {},
   "source": [
    "<img style=\"float:left;\" src=\"codigo_practica_img/codigo_practica_img5.png\"> </img>"
   ]
  },
  {
   "cell_type": "markdown",
   "metadata": {},
   "source": [
    "## Asignando valores\n",
    "\n",
    "A menudo, queremos almacenar los números u objetos como ***variables***. Escribe lo siguiente (y presione **[shift] + [enter]**)."
   ]
  },
  {
   "cell_type": "markdown",
   "metadata": {},
   "source": [
    "<img style=\"float:left;\" src=\"codigo_practica_img/codigo_practica_img6.png\"> </img>"
   ]
  },
  {
   "cell_type": "code",
   "execution_count": null,
   "metadata": {},
   "outputs": [],
   "source": []
  },
  {
   "cell_type": "markdown",
   "metadata": {},
   "source": [
    "Al escribir `x = 1` y presionar **[shift] + [enter]**, simultáneamente se creó una nueva\n",
    "**variable** llamada `x` y **se le asignó** el valor de 1. Entonces, cuando\n",
    "se escribió `x` nuevamente, el intérprete generó el valor de `x`.\n",
    "El valor `1` ahora se almacena en la variable `x` y permanecerá de esta manera\n",
    "hasta que se cambie. Por ejemplo:"
   ]
  },
  {
   "cell_type": "markdown",
   "metadata": {},
   "source": [
    "<img style=\"float:left;\" src=\"codigo_practica_img/codigo_practica_img7.png\"> </img>"
   ]
  },
  {
   "cell_type": "code",
   "execution_count": null,
   "metadata": {},
   "outputs": [],
   "source": []
  },
  {
   "cell_type": "markdown",
   "metadata": {},
   "source": [
    "Podemos asignar diferentes variables simultáneamente:"
   ]
  },
  {
   "cell_type": "markdown",
   "metadata": {},
   "source": [
    "<img style=\"float:left;\" src=\"codigo_practica_img/codigo_practica_img8.png\"> </img>"
   ]
  },
  {
   "cell_type": "code",
   "execution_count": null,
   "metadata": {},
   "outputs": [],
   "source": []
  },
  {
   "cell_type": "markdown",
   "metadata": {},
   "source": [
    "También podemos usar la calculadora para realizar operaciones matemáticas en variables:"
   ]
  },
  {
   "cell_type": "markdown",
   "metadata": {},
   "source": [
    "<img style=\"float:left;\" src=\"codigo_practica_img/codigo_practica_img9.png\"> </img>"
   ]
  },
  {
   "cell_type": "code",
   "execution_count": null,
   "metadata": {},
   "outputs": [],
   "source": []
  },
  {
   "cell_type": "code",
   "execution_count": null,
   "metadata": {},
   "outputs": [],
   "source": [
    "También podemos usar variables para crear nuevas variables:"
   ]
  },
  {
   "cell_type": "markdown",
   "metadata": {},
   "source": [
    "<img style=\"float:left;\" src=\"codigo_practica_img/codigo_practica_img10.png\"> </img>"
   ]
  },
  {
   "cell_type": "code",
   "execution_count": null,
   "metadata": {},
   "outputs": [],
   "source": []
  },
  {
   "cell_type": "markdown",
   "metadata": {},
   "source": [
    "## Strings\n",
    "\n",
    "String es el nombre del tipo de datos de texto. Un string (o cadena) en Python puede estar entre comillas simples o dobles. El tipo de comillas que no se usó para crear la cadena, se puede usar dentro de la misma. La **diagonal inversa (backslash)** se utiliza cuando los caracteres ambiguos deben usarse dentro de una cadena. Esto se conoce como un caracter **escapado**, p. ej. un \"apóstrofe escapado\", por ejemplo:"
   ]
  },
  {
   "cell_type": "markdown",
   "metadata": {},
   "source": [
    "<img style=\"float:left;\" src=\"codigo_practica_img/codigo_practica_img11.png\"> </img>"
   ]
  },
  {
   "cell_type": "code",
   "execution_count": null,
   "metadata": {},
   "outputs": [],
   "source": []
  },
  {
   "cell_type": "markdown",
   "metadata": {},
   "source": [
    "Al igual que con los números, se pueden asignar cadenas a las variables. Se pueden hacer cadenas para abarcar varias líneas de varias maneras. El primero es usar `\\n`, por ejemplo:"
   ]
  },
  {
   "cell_type": "markdown",
   "metadata": {},
   "source": [
    "<img style=\"float:left;\" src=\"codigo_practica_img/codigo_practica_img12.png\"> </img>"
   ]
  },
  {
   "cell_type": "code",
   "execution_count": null,
   "metadata": {},
   "outputs": [],
   "source": []
  },
  {
   "cell_type": "markdown",
   "metadata": {},
   "source": [
    "Aquí, hemos utilizado el comando `print` para interpretar los saltos de línea y los espacios al comienzo de las líneas y generar el texto en un formato más legible. También podemos usar tres comillas (`\"\"\"`), lo que nos permite escribir libremente, por ejemplo:"
   ]
  },
  {
   "cell_type": "markdown",
   "metadata": {},
   "source": [
    "<img style=\"float:left;\" src=\"codigo_practica_img/codigo_practica_img13.png\"> </img>"
   ]
  },
  {
   "cell_type": "code",
   "execution_count": null,
   "metadata": {},
   "outputs": [],
   "source": []
  },
  {
   "cell_type": "markdown",
   "metadata": {},
   "source": [
    "Tener en cuenta que los saltos de línea no son necesarios en este ejemplo. Si se incluye la letra `r` antes de una cadena, se convierte en una cadena **bruta**, en la que los caracteres ahora se incluyen como datos."
   ]
  },
  {
   "cell_type": "markdown",
   "metadata": {},
   "source": [
    "<img style=\"float:left;\" src=\"codigo_practica_img/codigo_practica_img14.png\"> </img>"
   ]
  },
  {
   "cell_type": "code",
   "execution_count": null,
   "metadata": {},
   "outputs": [],
   "source": []
  },
  {
   "cell_type": "markdown",
   "metadata": {},
   "source": [
    "Las cadenas también se pueden concatenar usando el operador `+` o repetirse usando el operador `*`:"
   ]
  },
  {
   "cell_type": "markdown",
   "metadata": {},
   "source": [
    "<img style=\"float:left;\" src=\"codigo_practica_img/codigo_practica_img15.png\"> </img>"
   ]
  },
  {
   "cell_type": "code",
   "execution_count": null,
   "metadata": {},
   "outputs": [],
   "source": []
  },
  {
   "cell_type": "markdown",
   "metadata": {},
   "source": [
    "**Dato curioso**: Python lleva el nombre de un grupo de comediantes de la década de 1970 llamado **Monty Python**.\n",
    "La documentación oficial a menudo utiliza referencias cómicas de sus shows."
   ]
  },
  {
   "cell_type": "markdown",
   "metadata": {},
   "source": [
    "Practiquen con esto hasta que se familiaricen. Se puede acceder a elementos individuales de una cadena (letras) utilizando subíndices. En Python, el índice del primer elemento es cero (este no es el caso en todos los lenguajes de programacion. Por ejemplo, en el caso de **R**). Los espacios y otros caracteres también se cuentan en el índice. Por ejemplo:"
   ]
  },
  {
   "cell_type": "markdown",
   "metadata": {},
   "source": [
    "<img style=\"float:left;\" src=\"codigo_practica_img/codigo_practica_img16.png\"> </img>\n"
   ]
  },
  {
   "cell_type": "code",
   "execution_count": null,
   "metadata": {},
   "outputs": [],
   "source": []
  },
  {
   "cell_type": "markdown",
   "metadata": {},
   "source": [
    "La sintaxis `[a:b]` accede a todo desde el elemento `a` hasta la posición **anterior** al elemento `b`, donde `a` y` b` son enteros. En el caso anterior, devuelve lo mismo que `wordB[2]`. Se puede omitir el índice antes o después de `:` para imprimir todo hasta o después de cierto índice. Por ejemplo:"
   ]
  },
  {
   "cell_type": "markdown",
   "metadata": {},
   "source": [
    "<img style=\"float:left;\" src=\"codigo_practica_img/codigo_practica_img17.png\"> </img>"
   ]
  },
  {
   "cell_type": "code",
   "execution_count": null,
   "metadata": {},
   "outputs": [],
   "source": []
  },
  {
   "cell_type": "markdown",
   "metadata": {},
   "source": [
    "Los índices que están fuera del rango de la cadena devuelven una ***cadena vacía***. ***No es posible*** cambiar parte de una cadena asignando un valor a uno de sus índices. ***Índices negativos***, es decir, `wordB[-1]` se puede usar para contar desde el último carácter de la cadena. Para obtener la longitud de una cadena, se puede usar el comando `len()`.\n",
    "Por ejemplo, `len(wordA)`. Intenten esto ustedes mismos."
   ]
  },
  {
   "cell_type": "code",
   "execution_count": null,
   "metadata": {},
   "outputs": [],
   "source": []
  },
  {
   "cell_type": "markdown",
   "metadata": {},
   "source": [
    "### Listas"
   ]
  },
  {
   "cell_type": "markdown",
   "metadata": {},
   "source": [
    "Una lista es un tipo de datos ***compuesto*** que se puede usar para agrupar valores.\n",
    "Las listas se escriben como listas de valores separadas por comas, entre corchetes:"
   ]
  },
  {
   "cell_type": "markdown",
   "metadata": {},
   "source": [
    "<img style=\"float:left;\" src=\"codigo_practica_img/codigo_practica_img18.png\"> </img>\n"
   ]
  },
  {
   "cell_type": "code",
   "execution_count": null,
   "metadata": {},
   "outputs": [],
   "source": []
  },
  {
   "cell_type": "markdown",
   "metadata": {},
   "source": [
    "Puede ver en este ejemplo que las listas pueden combinar elementos de diferentes tipos de datos. \n",
    "El último elemento `['ham', 'eggs']`es en realidad otra lista, indicada por los corchetes. \n",
    "Puede acceder a los elementos de las listas de la misma manera que las cadenas, así como concatenarlos, agregarlos y multiplicarlos. Por ejemplo:"
   ]
  },
  {
   "cell_type": "markdown",
   "metadata": {},
   "source": [
    "<img style=\"float:left;\" src=\"codigo_practica_img/codigo_practica_img19.png\"> </img>"
   ]
  },
  {
   "cell_type": "code",
   "execution_count": null,
   "metadata": {},
   "outputs": [],
   "source": []
  },
  {
   "cell_type": "markdown",
   "metadata": {},
   "source": [
    "A diferencia de las cadenas, es posible cambiar los elementos de una lista y agregar/eliminar elementos de esta:"
   ]
  },
  {
   "cell_type": "markdown",
   "metadata": {},
   "source": [
    "<img style=\"float:left;\" src=\"codigo_practica_img/codigo_practica_img20.png\"> </img>"
   ]
  },
  {
   "cell_type": "code",
   "execution_count": null,
   "metadata": {},
   "outputs": [],
   "source": []
  },
  {
   "cell_type": "markdown",
   "metadata": {},
   "source": [
    "<img style=\"float:left;\" src=\"codigo_practica_img/codigo_practica_img21.png\"> </img>\n"
   ]
  },
  {
   "cell_type": "code",
   "execution_count": null,
   "metadata": {},
   "outputs": [],
   "source": []
  },
  {
   "cell_type": "markdown",
   "metadata": {},
   "source": [
    "<img style=\"float:left;\" src=\"codigo_practica_img/codigo_practica_img22.png\"> </img>"
   ]
  },
  {
   "cell_type": "code",
   "execution_count": null,
   "metadata": {},
   "outputs": [],
   "source": []
  },
  {
   "cell_type": "markdown",
   "metadata": {},
   "source": [
    "También se puede usar la función `len()` para conocer la longitud de una lista.\n",
    "\n",
    "Las listas también pueden contener variables predefinidas, por ejemplo:"
   ]
  },
  {
   "cell_type": "markdown",
   "metadata": {},
   "source": [
    "<img style=\"float:left;\" src=\"codigo_practica_img/codigo_practica_img23.png\"> </img>"
   ]
  },
  {
   "cell_type": "code",
   "execution_count": null,
   "metadata": {},
   "outputs": [],
   "source": []
  },
  {
   "cell_type": "markdown",
   "metadata": {},
   "source": [
    "<img style=\"float:left;\" src=\"codigo_practica_img/codigo_practica_img24.png\"> </img>"
   ]
  },
  {
   "cell_type": "code",
   "execution_count": null,
   "metadata": {},
   "outputs": [],
   "source": []
  },
  {
   "cell_type": "markdown",
   "metadata": {},
   "source": [
    "<img style=\"float:left;\" src=\"codigo_practica_img/codigo_practica_img25.png\"> </img>\n"
   ]
  },
  {
   "cell_type": "code",
   "execution_count": null,
   "metadata": {},
   "outputs": [],
   "source": []
  },
  {
   "cell_type": "markdown",
   "metadata": {},
   "source": [
    "En este ejemplo, la variable `shopping`, una lista, se especifica como un elemento de` tasks`. Al acceder a `tasks[2]`, en realidad está accediendo a `shopping`, por lo tanto, si se cambia`shopping`, también se cambia en `tasks`. Tengan en cuenta que eliminar o reemplazar `shopping` en las `tasks` no eliminaría `shopping`. También puede acceder a los elementos de `shopping` utilizando un índice doble en `tasks`."
   ]
  },
  {
   "cell_type": "markdown",
   "metadata": {},
   "source": [
    "### Tuplas\n",
    "\n",
    "Una **tupla** es otro tipo de datos de secuencia compatible con Python. Las tuplas son muy similares a las listas, con la diferencia clave de que sus elementos no se pueden cambiar una vez definidos. Se puede acceder a sus elementos de la misma manera que las listas, y se pueden concatenar (unir). Por ejemplo:"
   ]
  },
  {
   "cell_type": "markdown",
   "metadata": {},
   "source": [
    "<img style=\"float:left;\" src=\"codigo_practica_img/codigo_practica_img26.png\"> </img>"
   ]
  },
  {
   "cell_type": "code",
   "execution_count": null,
   "metadata": {},
   "outputs": [],
   "source": []
  },
  {
   "cell_type": "markdown",
   "metadata": {},
   "source": [
    "<img style=\"float:left;\" src=\"codigo_practica_img/codigo_practica_img27.png\"> </img>"
   ]
  },
  {
   "cell_type": "code",
   "execution_count": null,
   "metadata": {},
   "outputs": [],
   "source": []
  },
  {
   "cell_type": "markdown",
   "metadata": {},
   "source": [
    "<img style=\"float:left;\" src=\"codigo_practica_img/codigo_practica_img28.png\"> </img>"
   ]
  },
  {
   "cell_type": "code",
   "execution_count": null,
   "metadata": {},
   "outputs": [],
   "source": []
  },
  {
   "cell_type": "markdown",
   "metadata": {},
   "source": [
    "¿Qué sucede si intentas lo siguiente?"
   ]
  },
  {
   "cell_type": "markdown",
   "metadata": {},
   "source": [
    "<img style=\"float:left;\" src=\"codigo_practica_img/codigo_practica_img29.png\"> </img>"
   ]
  },
  {
   "cell_type": "code",
   "execution_count": null,
   "metadata": {},
   "outputs": [],
   "source": []
  },
  {
   "cell_type": "markdown",
   "metadata": {},
   "source": [
    "¿Qué sucede si intentas lo siguiente?"
   ]
  },
  {
   "cell_type": "markdown",
   "metadata": {},
   "source": [
    "<img style=\"float:left;\" src=\"codigo_practica_img/codigo_practica_img30.png\"> </img>\n"
   ]
  },
  {
   "cell_type": "code",
   "execution_count": null,
   "metadata": {},
   "outputs": [],
   "source": []
  },
  {
   "cell_type": "markdown",
   "metadata": {},
   "source": [
    "Tengan en cuenta que se puede sobrescribir las compras (`shopping`) con un nuevo objeto, en este caso una lista vacía."
   ]
  },
  {
   "cell_type": "markdown",
   "metadata": {},
   "source": [
    "<img style=\"float:left;\" src=\"codigo_practica_img/codigo_practica_img31.png\"> </img>"
   ]
  },
  {
   "cell_type": "code",
   "execution_count": null,
   "metadata": {},
   "outputs": [],
   "source": []
  },
  {
   "cell_type": "markdown",
   "metadata": {},
   "source": [
    "Revisen el código y asegúrese de comprender lo que está sucediendo.\n",
    "Especialmente, noten la diferencia entre tratar de concatenar la tupla\n",
    "con una lista y con otra tupla."
   ]
  },
  {
   "cell_type": "markdown",
   "metadata": {},
   "source": [
    "## Diccionarios\n",
    "\n",
    "El diccionario es otro tipo de datos que es similar a una lista, pero se accede mediante \"llaves\" en lugar de números. \n",
    "Es una lista desordenada de clave única: pares de valores. \n",
    "La sintaxis para crear un diccionario es la siguiente:"
   ]
  },
  {
   "cell_type": "markdown",
   "metadata": {},
   "source": [
    "<img style=\"float:left;\" src=\"codigo_practica_img/codigo_practica_img32.png\"> </img>"
   ]
  },
  {
   "cell_type": "code",
   "execution_count": null,
   "metadata": {},
   "outputs": [],
   "source": []
  },
  {
   "cell_type": "markdown",
   "metadata": {},
   "source": [
    "Cuando no se trabaja desde la línea de comandos en la consola, \n",
    "pueden escribirse diccionarios más largos de la siguiente manera:"
   ]
  },
  {
   "cell_type": "markdown",
   "metadata": {},
   "source": [
    "<img style=\"float:left;\" src=\"codigo_practica_img/codigo_practica_img33.png\"> </img>"
   ]
  },
  {
   "cell_type": "code",
   "execution_count": null,
   "metadata": {},
   "outputs": [],
   "source": []
  },
  {
   "cell_type": "markdown",
   "metadata": {},
   "source": [
    "<img style=\"float:left;\" src=\"codigo_practica_img/codigo_practica_img34.png\"> </img>"
   ]
  },
  {
   "cell_type": "code",
   "execution_count": null,
   "metadata": {},
   "outputs": [],
   "source": []
  },
  {
   "cell_type": "markdown",
   "metadata": {},
   "source": [
    "Al igual que las listas, los diccionarios son mutables (se pueden cambiar):"
   ]
  },
  {
   "cell_type": "markdown",
   "metadata": {},
   "source": [
    "<img style=\"float:left;\" src=\"codigo_practica_img/codigo_practica_img35.png\"> </img>"
   ]
  },
  {
   "cell_type": "code",
   "execution_count": null,
   "metadata": {},
   "outputs": [],
   "source": []
  },
  {
   "cell_type": "markdown",
   "metadata": {},
   "source": [
    "Se puede acceder a las llaves utilizando la función `<name>.keys()`:"
   ]
  },
  {
   "cell_type": "markdown",
   "metadata": {},
   "source": [
    "<img style=\"float:left;\" src=\"codigo_practica_img/codigo_practica_img36.png\"> </img>"
   ]
  },
  {
   "cell_type": "code",
   "execution_count": null,
   "metadata": {},
   "outputs": [],
   "source": []
  },
  {
   "cell_type": "markdown",
   "metadata": {},
   "source": [
    "Se puede acceder a los valores asociados con las llaves utilizando el\n",
    "Función `<name>.values()`:"
   ]
  },
  {
   "cell_type": "markdown",
   "metadata": {},
   "source": [
    "<img style=\"float:left;\" src=\"codigo_practica_img/codigo_practica_img37.png\"> </img>"
   ]
  },
  {
   "cell_type": "code",
   "execution_count": null,
   "metadata": {},
   "outputs": [],
   "source": []
  },
  {
   "cell_type": "markdown",
   "metadata": {},
   "source": [
    "La función `dict()` se puede usar para crear diccionarios de formas que podrían parecer más fáciles que usar los corchetes `{}`, dependiendo de su experiencia. Por ejemplo, el diccionario de polígono también podría crearse usando el siguiente código:"
   ]
  },
  {
   "cell_type": "markdown",
   "metadata": {},
   "source": [
    "<img style=\"float:left;\" src=\"codigo_practica_img/codigo_practica_img38.png\"> </img>"
   ]
  },
  {
   "cell_type": "code",
   "execution_count": null,
   "metadata": {},
   "outputs": [],
   "source": []
  },
  {
   "cell_type": "markdown",
   "metadata": {},
   "source": [
    "Tengan en cuenta que este ejemplo es solo para fines ilustrativos y, en realidad, se crearía un polígono como una clase. Para obtener más detalles sobre los tipos de listas, incluidos algunos otros tipos de secuencia como **tuplas** y **conjuntos**, consulten la documentación en línea\n",
    "aquí: <http://docs.python.org/3.7/tutorial/datastructures.html>"
   ]
  },
  {
   "cell_type": "markdown",
   "metadata": {},
   "source": [
    "## Ejercicio 1"
   ]
  },
  {
   "cell_type": "markdown",
   "metadata": {},
   "source": [
    "**Crear un diccionario de tareas diarias llamado `lunes` con las llaves\n",
    "`trabajo`, `cocinar`, `comprar` y `dormir` (o lo que sea que hagan en el transcurso de un día).** \n",
    "\n",
    "**Cada uno de los elementos también debe ser una lista de dos o tres actividades \n",
    "basadas en lo que podría hacer en un lunes típico. \n",
    "No es importante lo que esté en las listas, solo que completen el ejercicio.**\n",
    "    \n",
    "**Consejo:** Las listas se pueden usar como valores en los diccionarios.\n",
    "\n",
    "Pueden escribir su código en la celda a continuación, pero cópienlo en un nuevo notebook para que lo pueda revisar."
   ]
  },
  {
   "cell_type": "code",
   "execution_count": null,
   "metadata": {},
   "outputs": [],
   "source": [
    " "
   ]
  },
  {
   "cell_type": "markdown",
   "metadata": {},
   "source": [
    "## Control de flujo en Python"
   ]
  },
  {
   "cell_type": "markdown",
   "metadata": {},
   "source": [
    "Ahora que recordamps los conceptos básicos de cómo funciona el intérprete de Python y cómo manejar ciertos tipos de datos, es momento de trabajar con un flujo de control simple."
   ]
  },
  {
   "cell_type": "markdown",
   "metadata": {},
   "source": [
    "### Declaraciones condicionales"
   ]
  },
  {
   "cell_type": "markdown",
   "metadata": {},
   "source": [
    "Las declaraciones condicionales (`if`) son uno de los métodos de flujo de control más utilizados en la programación. La idea básica es ejecutar un comando si cierta condición es verdadera. Estos se pueden combinar con `elif` (que significa _else if_ ) y `else` para crear una secuencia de condiciones y comandos.\n",
    "Por ejemplo:"
   ]
  },
  {
   "cell_type": "markdown",
   "metadata": {},
   "source": [
    "<img style=\"float:left;\" src=\"codigo_practica_img/codigo_practica_img40.png\"> </img>\n"
   ]
  },
  {
   "cell_type": "code",
   "execution_count": null,
   "metadata": {},
   "outputs": [],
   "source": []
  },
  {
   "cell_type": "markdown",
   "metadata": {},
   "source": [
    "En este código, la línea 1 pide al usuario que ingrese un número entero usando el teclado. La función `int()` convierte un número o cadena en un entero.\n",
    "\n",
    "La función `input(\"mensaje\")` solicita la entrada del teclado del usuario. Cuando se ejecuta este código, aparecerá el texto \"Ingrese un número entero:\", y el intérprete esperará su entrada. \n",
    "\n",
    "Cuando se ingresa un número entero y se presiona enter, uno de los mensajes; “Negativo cambiado a cero”, “Cero”, “Único” o “Más” se imprimirá dependiendo del número entero que ingrese. Si se ingresa algo que no es un entero, se producirá un error. Intenten esto varias veces hasta que estén seguro de lo que está haciendo el código."
   ]
  },
  {
   "cell_type": "markdown",
   "metadata": {},
   "source": [
    "### Bucles de iteración\n",
    "\n",
    "**bucles \"While\"**\n",
    "\n",
    "Un bucle while se usa para ejecutar código mientras una condición particular es verdadera. Una vez que la condición ya no sea verdadera, el ciclo terminará. Un ejemplo de un programa simple que se da en el tutorial de Python es la serie **Fibonacci**.\n",
    "Escribir el siguiente código:"
   ]
  },
  {
   "cell_type": "markdown",
   "metadata": {},
   "source": [
    "<img style=\"float:left;\" src=\"codigo_practica_img/codigo_practica_img41.png\"> </img>"
   ]
  },
  {
   "cell_type": "code",
   "execution_count": null,
   "metadata": {},
   "outputs": [],
   "source": []
  },
  {
   "cell_type": "markdown",
   "metadata": {},
   "source": [
    "Las tabulaciones aparecerán automáticamente. Son ***muy importantes*** ya que el código no funcionará sin ellas.\n",
    "\n",
    "Al ejecutar el código, debería aparecer lo siguiente: `1 1 2 3 5 8`\n",
    "\n",
    "\n",
    "**¿Qué hace este código?**\n",
    "\n",
    "**Líneas 1 y 2:** Los valores 0 y 1 se asignan a las variables a y b respectivamente.\n",
    "\n",
    "**Línea 3:** Este es un bucle **while**. El ciclo while se ejecutará mientras la condición `b <10` sea verdadera. El `:` es parte de la sintaxis de los bucles while (y otros tipos de bucles). El símbolo `<` es el operador de comparación  _menor que_ . Otros operadores de comparación incluyen `>`, `> =`, `<=`, `==` y `! =` (Lo que significa que no es igual a).\n",
    "\n",
    "**Línea 4:** Esta línea (y la siguiente línea) tiene sangría ***(espacio o tabulación)***, lo que indica que es el cuerpo del bucle while. En otros lenguajes de programación, los corchetes se usan para encerrar el cuerpo de los bucles, pero estos ***no son obligatorios*** en Python. El comando `print(b)` imprime el valor actual de `b` para el intérprete.\n",
    "\n",
    "**Línea 5:** El valor de `b` se asigna a una variable de retención denominada `c`, lo que permite actualizar `a` y` b`.\n",
    "\n",
    "**Líneas 6 a 7:** El valor de la variable `b` se asigna a `a` y el valor de `a + b` se asigna a `b`. El bucle luego regresa a la **Línea 4** y continúa hasta que `b` ya no sea menor que `10`.\n",
    "\n",
    "**Nota:** El siguiente código produce los mismos resultados:"
   ]
  },
  {
   "cell_type": "markdown",
   "metadata": {},
   "source": [
    "<img style=\"float:left;\" src=\"codigo_practica_img/codigo_practica_img42.png\"> </img>"
   ]
  },
  {
   "cell_type": "code",
   "execution_count": null,
   "metadata": {},
   "outputs": [],
   "source": []
  },
  {
   "cell_type": "markdown",
   "metadata": {},
   "source": [
    "Tengan en cuenta la asignación y actualización simultáneas de `a` y `b`, lo que hace innecesario el uso de una variable de soporte como `c` en el ejemplo anterior.\n",
    "\n",
    "**bucles \"For\"**\n",
    "\n",
    "El bucle \"**For**\" o es un concepto simple, pero en realidad es una de las herramientas más poderosas en programación. También se conoce como un bucle \"**For-Next**\", ya que la palabra clave **next** se usa para indicar el final del ciclo.\n",
    "\n",
    "Si se tiene una gran cantidad de valores u objetos con los que desea hacer algo, este bucle permite iterar sobre ellos uno por uno. En análisis de datos, esto es escencialmente útil para recorrer las filas y columnas de matrices. Por ejemplo:"
   ]
  },
  {
   "cell_type": "markdown",
   "metadata": {},
   "source": [
    "<img style=\"float:left;\" src=\"codigo_practica_img/codigo_practica_img43.png\"> </img>"
   ]
  },
  {
   "cell_type": "code",
   "execution_count": null,
   "metadata": {},
   "outputs": [],
   "source": []
  },
  {
   "cell_type": "markdown",
   "metadata": {},
   "source": [
    "Cuando se ejecuta este código, se imprimen los índices de `row` y `column`. Nótese el uso de las ***tabulaciones*** aquí. Utilizamos la función `range` para crear una secuencia de números entre 0 y 9 (agregamos 1 a estos para crear los índices, aunque Python está basado en cero). La sintaxis para la función `range` es `range (start_value, stop_value, increment) `. Por ejemplo:"
   ]
  },
  {
   "cell_type": "markdown",
   "metadata": {},
   "source": [
    "<img style=\"float:left;\" src=\"codigo_practica_img/codigo_practica_img44.png\"> </img>"
   ]
  },
  {
   "cell_type": "code",
   "execution_count": null,
   "metadata": {},
   "outputs": [],
   "source": []
  },
  {
   "cell_type": "markdown",
   "metadata": {},
   "source": [
    "Por defecto, `start_value` = 0 e `increment` = 1 para que puedan omitirse, como en nuestro caso. Tener en cuenta que también creamos un nuevo objeto de lista llamado `indices`.\n",
    "El código `indices.append(index)` agrega el valor del `index` en cada iteración a la lista. Aunque `range` es útil, una de las características distintivas de Python es que podemos ***iterar sobre secuencias directamente***. Por ejemplo:"
   ]
  },
  {
   "cell_type": "markdown",
   "metadata": {},
   "source": [
    "<img style=\"float:left;\" src=\"codigo_practica_img/codigo_practica_img45.png\"> </img>"
   ]
  },
  {
   "cell_type": "code",
   "execution_count": null,
   "metadata": {},
   "outputs": [],
   "source": []
  },
  {
   "cell_type": "markdown",
   "metadata": {},
   "source": [
    "Esto produce la misma salida que el bucle anterior ***(tengan en cuenta que tuvimos que ejecutar el bucle anterior primero en este caso, pero `indices` podrían ser cualquier objeto)***. Estos dos ejemplos resaltan una diferencia clave entre Python y otros lenguajes de programación.\n",
    "\n",
    "En la mayoría de lenguajes, se debe recorrer una progresión aritmética (es decir, `for (i in 1:10)` en R, `for i = 1:10` en MATLAB) o establecer el paso de iteración y las condiciones para detenerse (es decir,` for (int i = 1; i <11, i ++) `en C ++).\n",
    "\n",
    "En Python, se puede recorrer los elementos de **cualquier tipo de datos iterables** en el orden en que aparecen en la secuencia (por ejemplo, listas, diccionarios, matrices, cadenas ...)."
   ]
  },
  {
   "cell_type": "markdown",
   "metadata": {},
   "source": [
    "## Ejercicio 2"
   ]
  },
  {
   "cell_type": "markdown",
   "metadata": {},
   "source": [
    "**Escribir un bucle que recorra los elementos de las tareas de su diccionario `lunes` (del ejercicio 1) \n",
    "y que realice las siguientes operaciones en cada etapa del bucle:**\n",
    "\n",
    "1. **Imprimir la cadena \"Actividad:\" seguida del nombre del elemento actual en el diccionario**.\n",
    "\n",
    "2. **Imprimir la cadena \"Tareas:\" seguida de la lista de tareas asociada con la actividad actual.**\n",
    "\n",
    "**El resultado de su programa debería verse algo así (no tiene que verse exactamente igual y hay _algunas_ maneras de hacerlo):**"
   ]
  },
  {
   "cell_type": "markdown",
   "metadata": {},
   "source": [
    "<img style=\"float:left;\" src=\"codigo_practica_img/actividades.png\"> </img>"
   ]
  },
  {
   "cell_type": "markdown",
   "metadata": {},
   "source": [
    "**Pueden encontrar útiles los archivos de [ayuda](http://docs.python.org/3.7/library/stdtypes.html#dict.items) de diccionarios de esta URL.**\n",
    "\n",
    "\n",
    "**Sugerencia: recuerden las funciones** `<name>.keys()` **y** `<name>.values()` **discutidas anteriormente.**\n",
    "\n",
    "Guarden su código como un archivo **.ipynb**. Para esto, creen un nuevo notebook yendo al menú `File` en la barra de menú de Jupyter y hagan clic en `New Notebook`> `Python 3`.\n",
    "Escriban su código en una _celda de código_. Al terminar, dar clic en la opción `Save and Checkpoint` dentro del menú `File`. Encontrarán el archivo `.ipynb` en el directorio desde donde se abrió el último notebook.\n",
    "Alternativamente, dar clic en `File` > `Download as`> `Notebook (.ipynb)` y el archivo se guardará en su carpeta de descargas."
   ]
  },
  {
   "cell_type": "code",
   "execution_count": null,
   "metadata": {},
   "outputs": [],
   "source": []
  },
  {
   "cell_type": "markdown",
   "metadata": {},
   "source": [
    "## Funciones\n",
    "\n",
    "El control de flujo permite iterar sobre los elementos de los objetos y realizar tareas, tal vez dependiendo de ciertas condiciones que se cumplan. La mayoría de las veces, se querrá completar una tarea específica o un conjunto de tareas varias veces en diferentes datos. \n",
    "\n",
    "Los ejemplos que ha trabajado hasta ahora están diseñados para ejecutarse una vez. Por ejemplo, en el caso del ejemplo de la declaración if:"
   ]
  },
  {
   "cell_type": "markdown",
   "metadata": {},
   "source": [
    "<img style=\"float:left;\" src=\"codigo_practica_img/codigo_practica_img47.png\"> </img>\n"
   ]
  },
  {
   "cell_type": "code",
   "execution_count": null,
   "metadata": {},
   "outputs": [],
   "source": []
  },
  {
   "cell_type": "markdown",
   "metadata": {},
   "source": [
    "Cada vez que se desee verificar el valor de un número entero con las condiciones, se debe ejecutar todo el código, lo cual es una forma ineficiente de hacer las cosas. Afortunadamente, podemos automatizar este proceso usando\n",
    "**funciones**. La instrucción if se puede convertir fácilmente a una función de la siguiente manera:"
   ]
  },
  {
   "cell_type": "markdown",
   "metadata": {},
   "source": [
    "<img style=\"float:left;\" src=\"codigo_practica_img/codigo_practica_img48.png\"> </img>\n"
   ]
  },
  {
   "cell_type": "code",
   "execution_count": null,
   "metadata": {},
   "outputs": [],
   "source": []
  },
  {
   "cell_type": "markdown",
   "metadata": {},
   "source": [
    "Aquí, hemos agregado la línea `def checkInt():` que define una función llamada `checkInt`. `checkInt` es solo el nombre que se a escogido, y podría tener cualquier nombre que sea válido. Los corchetes `()` son donde los **argumentos** (valores de **parámetros**) se pasan a la función. En este caso, estamos pidiendo entrada de teclado para que no tengamos parámetros. El código restante se tabula un nivel más para indicar que está contenido en el cuerpo de la función. El único otro cambio es reemplazar `print` por` return`. La palabra clave `return` se usa para devolver un valor. La salida de una función se puede \n",
    "asignar a una variable para su uso posterior. Una vez definida, una función se puede **llamar** de la siguiente manera:"
   ]
  },
  {
   "cell_type": "markdown",
   "metadata": {},
   "source": [
    "<img style=\"float:left;\" src=\"codigo_practica_img/codigo_practica_img49.png\"> </img>\n"
   ]
  },
  {
   "cell_type": "code",
   "execution_count": null,
   "metadata": {},
   "outputs": [],
   "source": []
  },
  {
   "cell_type": "markdown",
   "metadata": {},
   "source": [
    "En el primer ejemplo, la salida de **checkInt()** no está asignada a\n",
    "nada para que el valor devuelto se imprima en la consola. En el segundo ejemplo, el valor devuelto se asigna a una variable **x** y no se imprime, sino que se almacena en **x**. La ventaja de contener el código dentro de una función es que solo necesitamos ejecutarlo explícitamente una vez (**definición de función**), después de lo cual se trata internamente a través de la **llamada de función**. Esto simplifica la repetición de los procedimientos contenidos dentro de la función.\n",
    "\n",
    "Veamos un ejemplo con algunos parámetros de entrada. Supongamos que queremos calcular el punto medio de una línea recta. Dados los dos puntos finales `p1` y` p2` y codificando las coordenadas x, y de cada uno como `p1x`,` p1y`, `p2x`,` p2y`, las coordenadas del punto medio se calculan como:\n",
    "\n",
    "$$\\left( \\frac{\\mathbf{p1x}\\mathbf{+ p2x}}{\\mathbf{2}} \\right)\\mathbf{,}\\left( \\frac{\\mathbf{p1y}\\mathbf{+ p2y}}{\\mathbf{2}} \\right)$$\n",
    "\n",
    "Podemos crear una función para hacer esto de la siguiente manera:"
   ]
  },
  {
   "cell_type": "markdown",
   "metadata": {},
   "source": [
    "<img style=\"float:left;\" src=\"codigo_practica_img/codigo_practica_img50.png\"> </img>"
   ]
  },
  {
   "cell_type": "code",
   "execution_count": null,
   "metadata": {},
   "outputs": [],
   "source": []
  },
  {
   "cell_type": "markdown",
   "metadata": {},
   "source": [
    "Convertimos la entrada a flotante ya que la entrada entera puede darnos la respuesta incorrecta. Tener en cuenta que esta no es necesariamente la forma más concisa de escribir esta función. Podemos llamar a la función de la siguiente manera:"
   ]
  },
  {
   "cell_type": "markdown",
   "metadata": {},
   "source": [
    "<img style=\"float:left;\" src=\"codigo_practica_img/codigo_practica_img51.png\"> </img>"
   ]
  },
  {
   "cell_type": "code",
   "execution_count": null,
   "metadata": {},
   "outputs": [],
   "source": []
  },
  {
   "cell_type": "markdown",
   "metadata": {},
   "source": [
    "Aquí tenemos dos tuplas de entrada que representan p1 y p2. \n",
    "El código también funcionará si las dos entradas son listas (corchetes):"
   ]
  },
  {
   "cell_type": "markdown",
   "metadata": {},
   "source": [
    "<img style=\"float:left;\" src=\"codigo_practica_img/codigo_practica_img52.png\"> </img>"
   ]
  },
  {
   "cell_type": "code",
   "execution_count": null,
   "metadata": {},
   "outputs": [],
   "source": []
  },
  {
   "cell_type": "markdown",
   "metadata": {},
   "source": [
    "También puede definir variables de antemano para pasar a la función:"
   ]
  },
  {
   "cell_type": "markdown",
   "metadata": {},
   "source": [
    "<img style=\"float:left;\" src=\"codigo_practica_img/codigo_practica_img53.png\"> </img>"
   ]
  },
  {
   "cell_type": "code",
   "execution_count": null,
   "metadata": {},
   "outputs": [],
   "source": []
  },
  {
   "cell_type": "markdown",
   "metadata": {},
   "source": [
    "Como hemos dado instrucciones al código para convertir la entrada en flotante,\n",
    "También se pueden ingresar números en formato de cadena:"
   ]
  },
  {
   "cell_type": "markdown",
   "metadata": {},
   "source": [
    "<img style=\"float:left;\" src=\"codigo_practica_img/codigo_practica_img54.png\"> </img>"
   ]
  },
  {
   "cell_type": "code",
   "execution_count": null,
   "metadata": {},
   "outputs": [],
   "source": []
  },
  {
   "cell_type": "markdown",
   "metadata": {},
   "source": [
    "Pueden ver en este ejemplo que Python permitirá hacer cosas de maneras diferentes. Esto puede ser algo bueno, pero también puede ser un riesgo si no prueban su código. Por ejemplo, si permitimos la entrada de enteros, el código puede funcionar bien pero devolver un resultado inútil. Esto podría pasar desapercibido."
   ]
  },
  {
   "cell_type": "markdown",
   "metadata": {},
   "source": [
    "## Conceptos básicos de manejo de errores\n",
    "\n",
    "Si se ejecuta el código con cadenas que no se pueden convertir a entero como entrada, no funcionará:"
   ]
  },
  {
   "cell_type": "markdown",
   "metadata": {},
   "source": [
    "<img style=\"float:left;\" src=\"codigo_practica_img/codigo_practica_img55.png\"> </img>"
   ]
  },
  {
   "cell_type": "code",
   "execution_count": null,
   "metadata": {},
   "outputs": [],
   "source": []
  },
  {
   "cell_type": "markdown",
   "metadata": {},
   "source": [
    "En este caso, devuelve un error porque nuestra función no es capaz de lidiar con esta situación. En este contexto, puede resultar extraño que un usuario intente encontrar el punto medio de una línea de esa manera. Sin embargo, es importante que los programadores piensen en las formas en que un usuario podría interactuar con nuestro código. Si podemos anticipar tales escenarios, podemos incorporar métodos para tratarlos. Esto se llama manejo de errores. En este caso, podemos verificar si la conversión flotante funciona y devolver un mensaje si no es así:"
   ]
  },
  {
   "cell_type": "markdown",
   "metadata": {},
   "source": [
    "<img style=\"float:left;\" src=\"codigo_practica_img/codigo_practica_img56.png\"> </img>"
   ]
  },
  {
   "cell_type": "code",
   "execution_count": null,
   "metadata": {},
   "outputs": [],
   "source": []
  },
  {
   "cell_type": "markdown",
   "metadata": {},
   "source": [
    "La excepción que estamos buscando aquí es un **ValueError**, que indica que no pudimos convertir una cadena en un flotante. Hay varios tipos de excepciones, que se enumeran aquí: <https://docs.python.org/3.7/library/exceptions.html#bltin-exceptions>.\n",
    "Al ejecutar el código nuevamente, devolvemos un mensaje de error más informativo que ayudará al usuario a hacerlo correctamente la próxima vez o al programador en su tarea de _debugging_ ."
   ]
  },
  {
   "cell_type": "markdown",
   "metadata": {},
   "source": [
    "<img style=\"float:left;\" src=\"codigo_practica_img/codigo_practica_img57.png\"> </img>"
   ]
  },
  {
   "cell_type": "code",
   "execution_count": null,
   "metadata": {},
   "outputs": [],
   "source": []
  },
  {
   "cell_type": "markdown",
   "metadata": {},
   "source": [
    "### Optimizando las cosas\n",
    "\n",
    "Hasta este punto, hemos ingresado argumentos para las funciones manualmente cada vez que las hemos llamado. A menudo, queremos aplicar una función a una colección de objetos. Por ejemplo, podemos querer calcular el punto medio de una lista de líneas rectas. Esto se puede hacer fácilmente combinando funciones con control de flujo:"
   ]
  },
  {
   "cell_type": "markdown",
   "metadata": {},
   "source": [
    "<img style=\"float:left;\" src=\"codigo_practica_img/codigo_practica_img58.png\"> </img>"
   ]
  },
  {
   "cell_type": "code",
   "execution_count": null,
   "metadata": {},
   "outputs": [],
   "source": []
  },
  {
   "cell_type": "markdown",
   "metadata": {},
   "source": [
    "Aquí, `pList` es una lista de tres tuplas, cada una de las cuales está compuesta por dos tuplas (una para la primera coordenada y otra para la segunda). El código crea los iteradores `p1` y` p2` para acceder al primer y segundo elementos de las tres tuplas. Luego pasa por estos y calcula el punto medio de cada uno. Tengan en cuenta que las tuplas podrían ser listas y viceversa."
   ]
  },
  {
   "cell_type": "markdown",
   "metadata": {},
   "source": [
    "## Sumario\n",
    "\n",
    "En este tutorial, han recordado la sintaxis básica y los tipos de datos del lenguaje de programación Python, además de haber repasado bucles y definición de funciones."
   ]
  }
 ],
 "metadata": {
  "kernelspec": {
   "display_name": "Python 3",
   "language": "python",
   "name": "python3"
  },
  "language_info": {
   "codemirror_mode": {
    "name": "ipython",
    "version": 3
   },
   "file_extension": ".py",
   "mimetype": "text/x-python",
   "name": "python",
   "nbconvert_exporter": "python",
   "pygments_lexer": "ipython3",
   "version": "3.7.6"
  }
 },
 "nbformat": 4,
 "nbformat_minor": 4
}
